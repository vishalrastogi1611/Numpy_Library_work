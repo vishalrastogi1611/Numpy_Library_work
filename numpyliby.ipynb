{
 "cells": [
  {
   "cell_type": "markdown",
   "id": "8f2903a9-e33f-4d96-9d96-2e694a26651b",
   "metadata": {},
   "source": [
    "# Numpy Library"
   ]
  },
  {
   "cell_type": "code",
   "execution_count": 1,
   "id": "66fe780b-d56c-40ca-b2df-8359392e325f",
   "metadata": {},
   "outputs": [],
   "source": [
    "# numpy Library\n",
    "# numeric Library (Numerical in Python)\n",
    "# importing numpy\n",
    "import numpy as np"
   ]
  },
  {
   "cell_type": "code",
   "execution_count": 2,
   "id": "deac7340-5074-4ef5-92b2-74823a960968",
   "metadata": {},
   "outputs": [],
   "source": [
    "# Creating An Anrray\n",
    "# array , arange , linspace"
   ]
  },
  {
   "cell_type": "code",
   "execution_count": 3,
   "id": "961e7803-fff8-4974-a753-d80ab42fa182",
   "metadata": {},
   "outputs": [
    {
     "data": {
      "text/plain": [
       "[2, 3, 4, 5, 6]"
      ]
     },
     "execution_count": 3,
     "metadata": {},
     "output_type": "execute_result"
    }
   ],
   "source": [
    "li = [2,3,4,5,6]\n",
    "li"
   ]
  },
  {
   "cell_type": "code",
   "execution_count": 4,
   "id": "ec6c0095-4726-4369-9648-fe942dc705ba",
   "metadata": {},
   "outputs": [
    {
     "data": {
      "text/plain": [
       "array([2, 3, 4, 5, 6])"
      ]
     },
     "execution_count": 4,
     "metadata": {},
     "output_type": "execute_result"
    }
   ],
   "source": [
    "# Creating An Anrray\n",
    "# array , arange , linspace\n",
    "ar = np.array([2,3,4,5,6])\n",
    "ar"
   ]
  },
  {
   "cell_type": "code",
   "execution_count": 5,
   "id": "4bdcac4d-e4fc-4825-8a3b-65b25786082c",
   "metadata": {},
   "outputs": [
    {
     "data": {
      "text/plain": [
       "[2, 3, 4, 'aman', 4.0, True]"
      ]
     },
     "execution_count": 5,
     "metadata": {},
     "output_type": "execute_result"
    }
   ],
   "source": [
    "li = [2,3,4,\"aman\",4.0,True]\n",
    "li"
   ]
  },
  {
   "cell_type": "code",
   "execution_count": 9,
   "id": "4f82447e-486f-4fc2-9f42-df0771859aeb",
   "metadata": {},
   "outputs": [
    {
     "data": {
      "text/plain": [
       "array(['2', '3', '4', 'aman', '4.0', 'True'], dtype='<U32')"
      ]
     },
     "execution_count": 9,
     "metadata": {},
     "output_type": "execute_result"
    }
   ],
   "source": [
    "ar = np.array([2,3,4,\"aman\",4.0,True])\n",
    "ar"
   ]
  },
  {
   "cell_type": "code",
   "execution_count": 10,
   "id": "7559f819-e422-4e45-bb16-2a934c468cf1",
   "metadata": {},
   "outputs": [
    {
     "data": {
      "text/plain": [
       "array([ 1,  3,  5,  7,  9, 11, 13, 15, 17, 19])"
      ]
     },
     "execution_count": 10,
     "metadata": {},
     "output_type": "execute_result"
    }
   ],
   "source": [
    "# arange\n",
    "ar = np.arange(1,20,2)\n",
    "ar"
   ]
  },
  {
   "cell_type": "code",
   "execution_count": 11,
   "id": "49ebc0a6-895c-4d51-84ab-549ce3fc9899",
   "metadata": {},
   "outputs": [
    {
     "data": {
      "text/plain": [
       "array([ 1,  2,  3,  4,  5,  6,  7,  8,  9, 10, 11, 12, 13, 14, 15, 16, 17,\n",
       "       18, 19, 20, 21, 22, 23, 24, 25, 26, 27, 28, 29, 30, 31, 32, 33, 34,\n",
       "       35, 36, 37, 38, 39, 40, 41, 42, 43, 44, 45, 46, 47, 48, 49, 50, 51,\n",
       "       52, 53, 54, 55, 56, 57, 58, 59, 60, 61, 62, 63, 64, 65, 66, 67, 68,\n",
       "       69, 70, 71, 72, 73, 74, 75, 76, 77, 78, 79, 80, 81, 82, 83, 84, 85,\n",
       "       86, 87, 88, 89, 90, 91, 92, 93, 94, 95, 96, 97, 98, 99])"
      ]
     },
     "execution_count": 11,
     "metadata": {},
     "output_type": "execute_result"
    }
   ],
   "source": [
    "ar = np.arange(1,100,1)\n",
    "ar"
   ]
  },
  {
   "cell_type": "code",
   "execution_count": 12,
   "id": "184dac2d-f37e-4fc1-b992-187713e16d05",
   "metadata": {},
   "outputs": [
    {
     "data": {
      "text/plain": [
       "array([0.5, 1. , 1.5, 2. , 2.5, 3. , 3.5, 4. , 4.5, 5. ])"
      ]
     },
     "execution_count": 12,
     "metadata": {},
     "output_type": "execute_result"
    }
   ],
   "source": [
    "# linspace        (same space are two number)\n",
    "ar = np.linspace(0.5,5,10)         # first number or second end number and how many number between in two number\n",
    "ar\n"
   ]
  },
  {
   "cell_type": "code",
   "execution_count": 13,
   "id": "b61914bb-2038-4d98-9104-739b20ab10ad",
   "metadata": {},
   "outputs": [
    {
     "data": {
      "text/plain": [
       "array([ 1.        ,  1.09090909,  1.18181818,  1.27272727,  1.36363636,\n",
       "        1.45454545,  1.54545455,  1.63636364,  1.72727273,  1.81818182,\n",
       "        1.90909091,  2.        ,  2.09090909,  2.18181818,  2.27272727,\n",
       "        2.36363636,  2.45454545,  2.54545455,  2.63636364,  2.72727273,\n",
       "        2.81818182,  2.90909091,  3.        ,  3.09090909,  3.18181818,\n",
       "        3.27272727,  3.36363636,  3.45454545,  3.54545455,  3.63636364,\n",
       "        3.72727273,  3.81818182,  3.90909091,  4.        ,  4.09090909,\n",
       "        4.18181818,  4.27272727,  4.36363636,  4.45454545,  4.54545455,\n",
       "        4.63636364,  4.72727273,  4.81818182,  4.90909091,  5.        ,\n",
       "        5.09090909,  5.18181818,  5.27272727,  5.36363636,  5.45454545,\n",
       "        5.54545455,  5.63636364,  5.72727273,  5.81818182,  5.90909091,\n",
       "        6.        ,  6.09090909,  6.18181818,  6.27272727,  6.36363636,\n",
       "        6.45454545,  6.54545455,  6.63636364,  6.72727273,  6.81818182,\n",
       "        6.90909091,  7.        ,  7.09090909,  7.18181818,  7.27272727,\n",
       "        7.36363636,  7.45454545,  7.54545455,  7.63636364,  7.72727273,\n",
       "        7.81818182,  7.90909091,  8.        ,  8.09090909,  8.18181818,\n",
       "        8.27272727,  8.36363636,  8.45454545,  8.54545455,  8.63636364,\n",
       "        8.72727273,  8.81818182,  8.90909091,  9.        ,  9.09090909,\n",
       "        9.18181818,  9.27272727,  9.36363636,  9.45454545,  9.54545455,\n",
       "        9.63636364,  9.72727273,  9.81818182,  9.90909091, 10.        ])"
      ]
     },
     "execution_count": 13,
     "metadata": {},
     "output_type": "execute_result"
    }
   ],
   "source": [
    "ar = np.linspace(1,10,100)\n",
    "ar"
   ]
  },
  {
   "cell_type": "code",
   "execution_count": 20,
   "id": "3c8b1215-bbfc-4fc3-acb8-22b27adc64ed",
   "metadata": {},
   "outputs": [
    {
     "data": {
      "text/plain": [
       "(array(10), 0, (), array(10))"
      ]
     },
     "execution_count": 20,
     "metadata": {},
     "output_type": "execute_result"
    }
   ],
   "source": [
    "# Dimension\n",
    "# Zero Dimension Array\n",
    "\n",
    "ar = np.array(10)\n",
    "ar , np.ndim(ar) , np.shape(ar) ,ar"
   ]
  },
  {
   "cell_type": "code",
   "execution_count": 4,
   "id": "cbb32ed2-8e1b-40d8-be92-61dc05e2c62d",
   "metadata": {},
   "outputs": [
    {
     "data": {
      "text/plain": [
       "(array([2, 3, 4, 5, 5]), 1, (5,))"
      ]
     },
     "execution_count": 4,
     "metadata": {},
     "output_type": "execute_result"
    }
   ],
   "source": [
    "# One dimension Array\n",
    "import numpy as np\n",
    "ar = np.array([2,3,4,5,5])\n",
    "ar , np.ndim(ar) , np.shape(ar)"
   ]
  },
  {
   "cell_type": "markdown",
   "id": "9fe3584f-c3ae-4e74-b003-ff0ca0ff5540",
   "metadata": {},
   "source": [
    "# Second Day "
   ]
  },
  {
   "cell_type": "code",
   "execution_count": 5,
   "id": "6c40a917-8acf-45ec-85e7-5aa19721e5f0",
   "metadata": {},
   "outputs": [],
   "source": [
    "# Some mehtods in \n",
    "# Sum\n",
    "# Max\n",
    "# Min\n",
    "# len                         (This is build-in-method)\n"
   ]
  },
  {
   "cell_type": "code",
   "execution_count": 16,
   "id": "0fdf40fb-585c-4dcb-8ccb-d92a4ad20f99",
   "metadata": {},
   "outputs": [
    {
     "data": {
      "text/plain": [
       "np.int64(55)"
      ]
     },
     "execution_count": 16,
     "metadata": {},
     "output_type": "execute_result"
    }
   ],
   "source": [
    "import numpy as np\n",
    "ar = np.array([1,2,3,4,5,6,7,8,9,10])\n",
    "sum(ar)\n"
   ]
  },
  {
   "cell_type": "code",
   "execution_count": 17,
   "id": "1af2c00a-ab16-4967-85fa-f120d42334b1",
   "metadata": {},
   "outputs": [
    {
     "data": {
      "text/plain": [
       "np.int64(1)"
      ]
     },
     "execution_count": 17,
     "metadata": {},
     "output_type": "execute_result"
    }
   ],
   "source": [
    "min(ar)\n"
   ]
  },
  {
   "cell_type": "code",
   "execution_count": 18,
   "id": "cbe5c31c-82be-4bee-81bc-99145623c62e",
   "metadata": {},
   "outputs": [
    {
     "data": {
      "text/plain": [
       "np.int64(10)"
      ]
     },
     "execution_count": 18,
     "metadata": {},
     "output_type": "execute_result"
    }
   ],
   "source": [
    "max(ar)\n"
   ]
  },
  {
   "cell_type": "code",
   "execution_count": 19,
   "id": "e9921ea2-e996-49cc-9702-e634d1d02f1d",
   "metadata": {},
   "outputs": [
    {
     "data": {
      "text/plain": [
       "10"
      ]
     },
     "execution_count": 19,
     "metadata": {},
     "output_type": "execute_result"
    }
   ],
   "source": [
    "len(ar)                               "
   ]
  },
  {
   "cell_type": "code",
   "execution_count": 4,
   "id": "138a1780-0ff5-4b8c-a0b5-1ca597c5c528",
   "metadata": {},
   "outputs": [
    {
     "data": {
      "text/plain": [
       "np.int64(10)"
      ]
     },
     "execution_count": 4,
     "metadata": {},
     "output_type": "execute_result"
    }
   ],
   "source": [
    "# Now we a create methods user by\n",
    "# max \n",
    "# min\n",
    "import numpy as np\n",
    "ar1 = np.array([1,2,3,4,5,6,7,8,9,10])\n",
    "maxs = ar1[0]\n",
    "for a in ar1:\n",
    "    if(a>maxs):\n",
    "        maxs = a\n",
    "maxs"
   ]
  },
  {
   "cell_type": "code",
   "execution_count": 5,
   "id": "fb02b2b5-a6d1-449c-a60e-881306180631",
   "metadata": {},
   "outputs": [
    {
     "data": {
      "text/plain": [
       "np.int64(10)"
      ]
     },
     "execution_count": 5,
     "metadata": {},
     "output_type": "execute_result"
    }
   ],
   "source": [
    "maxs"
   ]
  },
  {
   "cell_type": "code",
   "execution_count": 6,
   "id": "2573aa2e-2bc1-44b6-95be-0642d1e6c04f",
   "metadata": {},
   "outputs": [
    {
     "data": {
      "text/plain": [
       "np.int64(1)"
      ]
     },
     "execution_count": 6,
     "metadata": {},
     "output_type": "execute_result"
    }
   ],
   "source": [
    "import numpy as np\n",
    "ar1 = np.array([1,2,3,4,5,6,7,8,9,10])\n",
    "mins = ar1[0]\n",
    "for a in ar1:\n",
    "    if(a<mins):\n",
    "        maxs = a\n",
    "mins        "
   ]
  },
  {
   "cell_type": "code",
   "execution_count": 7,
   "id": "9b333b5e-cd19-47e2-8422-bb92c468a3d4",
   "metadata": {},
   "outputs": [
    {
     "data": {
      "text/plain": [
       "np.int64(1)"
      ]
     },
     "execution_count": 7,
     "metadata": {},
     "output_type": "execute_result"
    }
   ],
   "source": [
    "mins"
   ]
  },
  {
   "cell_type": "code",
   "execution_count": 9,
   "id": "c8560896-53e2-426f-8100-907ec3b45070",
   "metadata": {},
   "outputs": [
    {
     "data": {
      "text/plain": [
       "np.int64(55)"
      ]
     },
     "execution_count": 9,
     "metadata": {},
     "output_type": "execute_result"
    }
   ],
   "source": [
    "# sum\n",
    "import numpy as np\n",
    "ar1 = np.array([1,2,3,4,5,6,7,8,9,10])\n",
    "sums = 0\n",
    "for a in ar1:\n",
    "    sums =sums+a\n",
    "sums"
   ]
  },
  {
   "cell_type": "code",
   "execution_count": 11,
   "id": "b52574b7-7c5d-4dbb-827d-6c74e9d48771",
   "metadata": {},
   "outputs": [
    {
     "data": {
      "text/plain": [
       "10"
      ]
     },
     "execution_count": 11,
     "metadata": {},
     "output_type": "execute_result"
    }
   ],
   "source": [
    "# len(count)\n",
    "import numpy as np\n",
    "ar1 = np.array([1,2,3,4,5,6,7,8,9,10])\n",
    "count = 0\n",
    "for a in ar1:\n",
    "    count = count + 1\n",
    "count"
   ]
  },
  {
   "cell_type": "code",
   "execution_count": 12,
   "id": "7862e68b-a674-460c-9dfa-c3c0c2f62594",
   "metadata": {},
   "outputs": [
    {
     "data": {
      "text/plain": [
       "3"
      ]
     },
     "execution_count": 12,
     "metadata": {},
     "output_type": "execute_result"
    }
   ],
   "source": [
    "# Target value (how many position in array\n",
    "ar = np.array([1,2,3,4,5,6,7,8,9,4,5,6,4])\n",
    "target = 4\n",
    "count = 0\n",
    "for a in ar:\n",
    "    if (a==target):\n",
    "        count = count+1\n",
    "count"
   ]
  },
  {
   "cell_type": "code",
   "execution_count": 5,
   "id": "aaa27c8b-f87d-4fb9-ae5b-51deb5f594be",
   "metadata": {},
   "outputs": [
    {
     "name": "stdout",
     "output_type": "stream",
     "text": [
      "[1, 2, 3, 4, 5, 6, 7, 8, 9] "
     ]
    },
    {
     "data": {
      "text/plain": [
       "[1, 2, 3, 4, 5, 6, 7, 8, 9]"
      ]
     },
     "execution_count": 5,
     "metadata": {},
     "output_type": "execute_result"
    }
   ],
   "source": [
    "# now we sort list in array\n",
    "import numpy as np\n",
    "ar = np.array([5,9,1,4,7,8,3,2,6])\n",
    "li = list(ar)\n",
    "sort = []\n",
    "for a in range(0,len(ar)):\n",
    "    sort.append(min(li))\n",
    "    li.remove(min(li))\n",
    "print(sort,end=\" \")\n",
    "sort\n"
   ]
  },
  {
   "cell_type": "code",
   "execution_count": 30,
   "id": "924a1aa4-e7b4-4f08-95d7-d1b55a259ee1",
   "metadata": {},
   "outputs": [],
   "source": [
    "ar = np.array(sort)"
   ]
  },
  {
   "cell_type": "code",
   "execution_count": 31,
   "id": "7d7c4c23-430d-4d89-84f9-ecbcb04b362e",
   "metadata": {},
   "outputs": [
    {
     "data": {
      "text/plain": [
       "array([1, 2, 3, 4, 5, 6, 7, 8, 9])"
      ]
     },
     "execution_count": 31,
     "metadata": {},
     "output_type": "execute_result"
    }
   ],
   "source": [
    "ar"
   ]
  },
  {
   "cell_type": "markdown",
   "id": "31db343d-0a22-4092-9f65-eb75ff2de2ca",
   "metadata": {},
   "source": [
    "# third Day\n",
    "# 2D array"
   ]
  },
  {
   "cell_type": "code",
   "execution_count": 23,
   "id": "220cd65b-7088-476b-8447-21371b397291",
   "metadata": {},
   "outputs": [
    {
     "data": {
      "text/plain": [
       "[[1, 2, 3], [4, 5, 6], [7, 8, 9]]"
      ]
     },
     "execution_count": 23,
     "metadata": {},
     "output_type": "execute_result"
    }
   ],
   "source": [
    "math = ([[1,2,3],[4,5,6],[7,8,9]])\n",
    "math"
   ]
  },
  {
   "cell_type": "code",
   "execution_count": 8,
   "id": "7f5c0fd3-47e0-4e08-b07d-59e8e6a3508b",
   "metadata": {},
   "outputs": [
    {
     "data": {
      "text/plain": [
       "(3, 3)"
      ]
     },
     "execution_count": 8,
     "metadata": {},
     "output_type": "execute_result"
    }
   ],
   "source": [
    "import numpy as np\n",
    "math = np.array ([[1,2,3],[4,5,6],[7,8,9]])\n",
    "math      \n",
    "math.shape"
   ]
  },
  {
   "cell_type": "code",
   "execution_count": 7,
   "id": "99cad572-2270-4f62-a777-ccf054084142",
   "metadata": {},
   "outputs": [
    {
     "name": "stdout",
     "output_type": "stream",
     "text": [
      "Row : 3\n",
      "Column : 3\n"
     ]
    }
   ],
   "source": [
    "print(\"Row :\",math.shape[0])\n",
    "print(\"Column :\",math.shape[1])"
   ]
  },
  {
   "cell_type": "code",
   "execution_count": 26,
   "id": "45c17657-fefa-4ce6-8876-17b64cd96400",
   "metadata": {},
   "outputs": [
    {
     "name": "stdout",
     "output_type": "stream",
     "text": [
      "1  2  3  \n",
      "4  5  6  \n",
      "7  8  9  \n"
     ]
    }
   ],
   "source": [
    "# how to work a matrix\n",
    "for i in range(0,3):\n",
    "    for j in range(0,3):\n",
    "        print(math[i][j],end=\"  \")\n",
    "    print()\n",
    "    "
   ]
  },
  {
   "cell_type": "code",
   "execution_count": 27,
   "id": "1c92c21d-a1a3-4fd2-a36a-13ab0835f0f7",
   "metadata": {},
   "outputs": [],
   "source": [
    "# how to add two matrix\n",
    "math1 = np.array([[1,2,3],[4,5,6],[7,8,9]])\n",
    "math2 = np.array([[1,2,3],[4,5,6],[7,8,9]])"
   ]
  },
  {
   "cell_type": "code",
   "execution_count": 28,
   "id": "c5cfcab1-2f28-407b-9f50-dfd81a436758",
   "metadata": {},
   "outputs": [
    {
     "data": {
      "text/plain": [
       "(array([[1, 2, 3],\n",
       "        [4, 5, 6],\n",
       "        [7, 8, 9]]),\n",
       " array([[1, 2, 3],\n",
       "        [4, 5, 6],\n",
       "        [7, 8, 9]]))"
      ]
     },
     "execution_count": 28,
     "metadata": {},
     "output_type": "execute_result"
    }
   ],
   "source": [
    "math1,math2"
   ]
  },
  {
   "cell_type": "code",
   "execution_count": 37,
   "id": "bbe21f6d-619e-4f40-bdda-2d72d64b483d",
   "metadata": {},
   "outputs": [
    {
     "name": "stdout",
     "output_type": "stream",
     "text": [
      "2     4     6     \n",
      "8     10     12     \n",
      "14     16     18     \n"
     ]
    }
   ],
   "source": [
    "if((math1.shape[0]==math2.shape[0]) and (math1.shape[1]==math2.shape[1])):\n",
    "    for i in range(0,math1.shape[0]):\n",
    "        for j in range(0,math1.shape[1]):\n",
    "            print(math1[i][j]+math2[i][j],end=\"     \")\n",
    "        print()\n",
    "else:\n",
    "    print(\"Addition not possible\")"
   ]
  },
  {
   "cell_type": "code",
   "execution_count": 47,
   "id": "a03eb689-ddab-4ecd-949f-2e7c1711c0e0",
   "metadata": {},
   "outputs": [
    {
     "name": "stdout",
     "output_type": "stream",
     "text": [
      "1  4  7  \n",
      "2  5  8  \n",
      "3  6  9  \n"
     ]
    }
   ],
   "source": [
    "# Transpose matrix\n",
    "math1 = np.array([[1,2,3],[4,5,6],[7,8,9]])\n",
    "for i in range(0,math1.shape[0]):\n",
    "    for j in range(0,math1.shape[1]):\n",
    "        print(math1[j][i],end=\"  \")\n",
    "    print()"
   ]
  },
  {
   "cell_type": "code",
   "execution_count": 48,
   "id": "abfb4046-1759-49c5-ac48-dc7c0e472f62",
   "metadata": {},
   "outputs": [
    {
     "data": {
      "text/plain": [
       "(array([[1, 2, 3],\n",
       "        [4, 5, 6],\n",
       "        [7, 8, 9]]),\n",
       " array([[1, 2, 3],\n",
       "        [4, 5, 6],\n",
       "        [7, 8, 9]]),\n",
       " array([[0, 0, 0],\n",
       "        [0, 0, 0],\n",
       "        [0, 0, 0]]))"
      ]
     },
     "execution_count": 48,
     "metadata": {},
     "output_type": "execute_result"
    }
   ],
   "source": [
    "# Multiply two matrix\n",
    "math1 = np.array([[1,2,3],[4,5,6],[7,8,9]])\n",
    "math2 = np.array([[1,2,3],[4,5,6],[7,8,9]])\n",
    "math3 = np.zeros_like(math1)\n",
    "math1,math2,math3"
   ]
  },
  {
   "cell_type": "code",
   "execution_count": 49,
   "id": "a09e1561-641e-4148-b891-4a2d91335032",
   "metadata": {},
   "outputs": [],
   "source": [
    "for i in range(0,3):\n",
    "    for j in range(0,3):\n",
    "        val = 0\n",
    "        for k in range(0,3):\n",
    "            val = val + math1[i][k]*math2[k][j]\n",
    "        math3[i][j] = val\n",
    "        \n",
    "            "
   ]
  },
  {
   "cell_type": "code",
   "execution_count": 53,
   "id": "5e6398e7-c1f5-4844-9427-43fe1ffa0338",
   "metadata": {},
   "outputs": [
    {
     "data": {
      "text/plain": [
       "array([[ 30,  36,  42],\n",
       "       [ 66,  81,  96],\n",
       "       [102, 126, 150]])"
      ]
     },
     "execution_count": 53,
     "metadata": {},
     "output_type": "execute_result"
    }
   ],
   "source": [
    "math3"
   ]
  },
  {
   "cell_type": "code",
   "execution_count": null,
   "id": "c2ae9815-210b-4e5b-8523-f3f80ff868e6",
   "metadata": {},
   "outputs": [],
   "source": []
  },
  {
   "cell_type": "markdown",
   "id": "3ced0044-1d92-4752-b4da-b1c2cc9969db",
   "metadata": {},
   "source": [
    "# 4th Day\n",
    "# some function"
   ]
  },
  {
   "cell_type": "code",
   "execution_count": null,
   "id": "cd7e2086-a42b-409a-bb81-1f9576bcf3ac",
   "metadata": {},
   "outputs": [],
   "source": [
    "# zeros\n",
    "# ones\n",
    "# zeros_like\n",
    "# ones_like\n",
    "# eye\n",
    "# identity\n",
    "# array\n",
    "# arange\n",
    "# linspace\n",
    "\n",
    "\n",
    "\n",
    "\n",
    "import numpy as np\n",
    "mat = np.zeros((3,3))\n",
    "mat"
   ]
  },
  {
   "cell_type": "code",
   "execution_count": 60,
   "id": "6bb6352e-332c-46f2-9ea0-a7b133937eb7",
   "metadata": {},
   "outputs": [],
   "source": [
    "mat = np.zeros((4,4),dtype=float)"
   ]
  },
  {
   "cell_type": "code",
   "execution_count": 63,
   "id": "c39941f2-faf2-4f43-9b07-956043a2616e",
   "metadata": {},
   "outputs": [
    {
     "data": {
      "text/plain": [
       "array([[0, 0, 0, 0],\n",
       "       [0, 0, 0, 0],\n",
       "       [0, 0, 0, 0],\n",
       "       [0, 0, 0, 0]])"
      ]
     },
     "execution_count": 63,
     "metadata": {},
     "output_type": "execute_result"
    }
   ],
   "source": [
    "mat"
   ]
  },
  {
   "cell_type": "markdown",
   "id": "db6f738d-5384-48cd-ad21-2313af0b91c3",
   "metadata": {},
   "source": []
  },
  {
   "cell_type": "code",
   "execution_count": 64,
   "id": "3080478d-77c2-4e27-aaab-ccc7300ea968",
   "metadata": {},
   "outputs": [],
   "source": [
    "mat = np.zeros((4,4),dtype=float)"
   ]
  },
  {
   "cell_type": "code",
   "execution_count": 65,
   "id": "8e978383-bfeb-430a-930e-78dc02151f78",
   "metadata": {},
   "outputs": [
    {
     "data": {
      "text/plain": [
       "array([[0., 0., 0., 0.],\n",
       "       [0., 0., 0., 0.],\n",
       "       [0., 0., 0., 0.],\n",
       "       [0., 0., 0., 0.]])"
      ]
     },
     "execution_count": 65,
     "metadata": {},
     "output_type": "execute_result"
    }
   ],
   "source": [
    "mat"
   ]
  },
  {
   "cell_type": "code",
   "execution_count": 67,
   "id": "beca4fdd-b148-4a56-8028-c783da6ea91f",
   "metadata": {},
   "outputs": [],
   "source": [
    "mat = np.zeros((4,4),dtype=int)"
   ]
  },
  {
   "cell_type": "code",
   "execution_count": 68,
   "id": "e94dae23-d343-4e0e-8784-f840578b5f5a",
   "metadata": {},
   "outputs": [
    {
     "data": {
      "text/plain": [
       "array([[0, 0, 0, 0],\n",
       "       [0, 0, 0, 0],\n",
       "       [0, 0, 0, 0],\n",
       "       [0, 0, 0, 0]])"
      ]
     },
     "execution_count": 68,
     "metadata": {},
     "output_type": "execute_result"
    }
   ],
   "source": [
    "mat"
   ]
  },
  {
   "cell_type": "code",
   "execution_count": 71,
   "id": "4cb63cd9-b8bc-44ec-a357-c704f182a1cc",
   "metadata": {},
   "outputs": [
    {
     "data": {
      "text/plain": [
       "[[1, 2, 3], [4, 5, 6], [7, 8, 9]]"
      ]
     },
     "execution_count": 71,
     "metadata": {},
     "output_type": "execute_result"
    }
   ],
   "source": [
    "mat = np.ones((3,3),dtype=int)\n",
    "math"
   ]
  },
  {
   "cell_type": "code",
   "execution_count": 72,
   "id": "469df286-72a6-4f95-9924-ca0e35ce4c7e",
   "metadata": {},
   "outputs": [],
   "source": [
    "mat1 = np.zeros_like(math)"
   ]
  },
  {
   "cell_type": "code",
   "execution_count": 73,
   "id": "7a9604ff-a84a-489c-b996-9989f156588c",
   "metadata": {},
   "outputs": [
    {
     "data": {
      "text/plain": [
       "array([[0, 0, 0],\n",
       "       [0, 0, 0],\n",
       "       [0, 0, 0]])"
      ]
     },
     "execution_count": 73,
     "metadata": {},
     "output_type": "execute_result"
    }
   ],
   "source": [
    "mat1"
   ]
  },
  {
   "cell_type": "code",
   "execution_count": 75,
   "id": "d08b8360-0601-4e2d-9f35-fdfcd9ff9b77",
   "metadata": {},
   "outputs": [
    {
     "data": {
      "text/plain": [
       "array([[1, 1, 1],\n",
       "       [1, 1, 1],\n",
       "       [1, 1, 1]])"
      ]
     },
     "execution_count": 75,
     "metadata": {},
     "output_type": "execute_result"
    }
   ],
   "source": [
    "math2 = np.ones_like(math1)\n",
    "math2"
   ]
  },
  {
   "cell_type": "code",
   "execution_count": 78,
   "id": "75f3474f-aaf0-42c1-aa38-7bb5510f9abb",
   "metadata": {},
   "outputs": [
    {
     "data": {
      "text/plain": [
       "array([[1., 0., 0., 0.],\n",
       "       [0., 1., 0., 0.],\n",
       "       [0., 0., 1., 0.]])"
      ]
     },
     "execution_count": 78,
     "metadata": {},
     "output_type": "execute_result"
    }
   ],
   "source": [
    "# eye function pass two arrgument and parfect array create by onece arrgument\n",
    "mat = np.eye(3,4)\n",
    "mat"
   ]
  },
  {
   "cell_type": "code",
   "execution_count": 81,
   "id": "4d829965-c5bf-4501-a5fb-8bcbada9047c",
   "metadata": {},
   "outputs": [
    {
     "data": {
      "text/plain": [
       "array([ 3.        ,  3.77777778,  4.55555556,  5.33333333,  6.11111111,\n",
       "        6.88888889,  7.66666667,  8.44444444,  9.22222222, 10.        ])"
      ]
     },
     "execution_count": 81,
     "metadata": {},
     "output_type": "execute_result"
    }
   ],
   "source": [
    "# linspace can only one arrgument  pass(start,stop, how much value in range)\n",
    "mt = np.linspace(3,10,10)\n",
    "mt"
   ]
  },
  {
   "cell_type": "code",
   "execution_count": 82,
   "id": "2b2f4501-5751-4b28-ab64-2b8d4616ceb3",
   "metadata": {},
   "outputs": [],
   "source": [
    "# Random Function \n",
    "# random (values between froms 0 to 1)\n",
    "# random (0,1]\n",
    "# randint (start,stop)"
   ]
  },
  {
   "cell_type": "code",
   "execution_count": 87,
   "id": "b383f5e4-0226-40db-a618-6f7a5354fe82",
   "metadata": {},
   "outputs": [
    {
     "data": {
      "text/plain": [
       "array([0.96813253, 0.81408454, 0.76897771, 0.93554491, 0.78090474,\n",
       "       0.42934962, 0.06292614, 0.6040812 , 0.79666919, 0.22429201])"
      ]
     },
     "execution_count": 87,
     "metadata": {},
     "output_type": "execute_result"
    }
   ],
   "source": [
    "ar = np.random.random(10)          #(value between from 0 to 1) any five value create any time different value show\n",
    "ar"
   ]
  },
  {
   "cell_type": "code",
   "execution_count": 90,
   "id": "aff5f8e5-2f51-4716-9b0f-74ac188dc2dc",
   "metadata": {},
   "outputs": [
    {
     "data": {
      "text/plain": [
       "array([2, 6, 7], dtype=int32)"
      ]
     },
     "execution_count": 90,
     "metadata": {},
     "output_type": "execute_result"
    }
   ],
   "source": [
    "ar = np.random.randint(1,10,3)\n",
    "ar"
   ]
  },
  {
   "cell_type": "markdown",
   "id": "fbefc741-d29d-4f52-8591-8210bf4b161a",
   "metadata": {},
   "source": [
    "# Now some practice Question"
   ]
  },
  {
   "cell_type": "code",
   "execution_count": 25,
   "id": "0a9ee531-21dd-440b-85e3-deb7e91fbe47",
   "metadata": {},
   "outputs": [
    {
     "name": "stdin",
     "output_type": "stream",
     "text": [
      "enter a num : 10\n"
     ]
    },
    {
     "name": "stdout",
     "output_type": "stream",
     "text": [
      "1\n",
      "1\n",
      "2\n",
      "3\n",
      "5\n",
      "8\n"
     ]
    }
   ],
   "source": [
    "# wap to create an arra of 4X4 shapre of finbonacci value\n",
    "n = int(input(\"enter a num :\"))\n",
    "x =1\n",
    "y = 0\n",
    "z = 1\n",
    "while z<=n:\n",
    "    print(z)\n",
    "    x=y\n",
    "    y=z\n",
    "    z=x+y\n",
    "\n"
   ]
  },
  {
   "cell_type": "code",
   "execution_count": 9,
   "id": "5cce23a6-eb72-466f-9e54-e6dabd344c37",
   "metadata": {},
   "outputs": [],
   "source": [
    "# wap to create an arra of 4X4 shapre of finbonacci value\n",
    "import numpy as np\n",
    "def ficb(val1,val2,s1,s2):\n",
    "    li =[]\n",
    "    for i in range(0,s1):\n",
    "        temp = []\n",
    "        for j in range(0,s2):\n",
    "            val3 = val1+val2\n",
    "            temp.append(val3)\n",
    "            val1= val2\n",
    "            val2 = val3\n",
    "        li.append(temp)\n",
    "    return li\n",
    "         "
   ]
  },
  {
   "cell_type": "code",
   "execution_count": 10,
   "id": "b7335982-b7a2-44d5-996c-6c3b87f3c29c",
   "metadata": {},
   "outputs": [],
   "source": [
    "mat = np.array(ficb(0,1,4,4))\n"
   ]
  },
  {
   "cell_type": "code",
   "execution_count": 11,
   "id": "15799a84-38a0-4fd5-9962-0d5e58aaca3f",
   "metadata": {},
   "outputs": [
    {
     "data": {
      "text/plain": [
       "array([[   1,    2,    3,    5],\n",
       "       [   8,   13,   21,   34],\n",
       "       [  55,   89,  144,  233],\n",
       "       [ 377,  610,  987, 1597]])"
      ]
     },
     "execution_count": 11,
     "metadata": {},
     "output_type": "execute_result"
    }
   ],
   "source": [
    "mat"
   ]
  },
  {
   "cell_type": "code",
   "execution_count": 40,
   "id": "7f985e83-3fbc-4cbf-bfe0-92b7d4743d8e",
   "metadata": {},
   "outputs": [],
   "source": [
    "\n",
    " \n",
    "# Function\n",
    "# 41.check prime num\n",
    "# def check_prime(num):\n",
    "#     count=0\n",
    "#     for a in range(1,num+1):\n",
    "#         if(num%a==0):\n",
    "#             count=count+1\n",
    "#     if(count==2):\n",
    "#         return \"prime\"\n",
    "#     else:\n",
    "#         return \"not prime\"\n",
    "\n",
    "# print(check_prime(17))\n",
    "\n"
   ]
  },
  {
   "cell_type": "markdown",
   "id": "6d14e05d-6631-4ad1-a3bb-5dc00a424d5d",
   "metadata": {},
   "source": [
    "# Numpy end\n",
    " "
   ]
  },
  {
   "cell_type": "code",
   "execution_count": null,
   "id": "01bf4b05-e9ff-41ed-a132-40f7728c8d94",
   "metadata": {},
   "outputs": [],
   "source": []
  },
  {
   "cell_type": "code",
   "execution_count": null,
   "id": "3aabb14a-7a18-4b21-a5aa-e83dd11afe22",
   "metadata": {},
   "outputs": [],
   "source": []
  }
 ],
 "metadata": {
  "kernelspec": {
   "display_name": "Python 3 (ipykernel)",
   "language": "python",
   "name": "python3"
  },
  "language_info": {
   "codemirror_mode": {
    "name": "ipython",
    "version": 3
   },
   "file_extension": ".py",
   "mimetype": "text/x-python",
   "name": "python",
   "nbconvert_exporter": "python",
   "pygments_lexer": "ipython3",
   "version": "3.12.4"
  }
 },
 "nbformat": 4,
 "nbformat_minor": 5
}
